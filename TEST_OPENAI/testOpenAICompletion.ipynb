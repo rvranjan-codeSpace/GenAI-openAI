{
 "cells": [
  {
   "cell_type": "code",
   "execution_count": 5,
   "metadata": {},
   "outputs": [
    {
     "data": {
      "text/plain": [
       "Completion(id='cmpl-9bqN9UIQQ10eFvHGl4bhZWQfMZ2Ha', choices=[CompletionChoice(finish_reason='length', index=0, logprobs=None, text=' in the year 2048:\\n\\nMake a timetable for zachary’s surgery.\\n\\nFor every player in')], created=1718806483, model='davinci-002', object='text_completion', system_fingerprint=None, usage=CompletionUsage(completion_tokens=20, prompt_tokens=5, total_tokens=25))"
      ]
     },
     "execution_count": 5,
     "metadata": {},
     "output_type": "execute_result"
    }
   ],
   "source": [
    "#from openai import OpenAI\n",
    "import openai\n",
    "from dotenv import load_dotenv # import env variable from .env file\n",
    "import os\n",
    "import pandas as pd\n",
    "\n",
    "# Load environment variables from .env file\n",
    "load_dotenv()\n",
    "\n",
    "openai.api_key = os.getenv('OPENAI_API_KEY')\n",
    "models = openai.models.list().data\n",
    "\n",
    "\n",
    "#print(type(models))\n",
    "#print(pd.DataFrame(models))\n",
    "\n",
    "#Chat completion API\n",
    "openai.completions.create(\n",
    "    model = 'davinci-002',\n",
    "    prompt= \"Write an essay on India\",\n",
    "    max_tokens=20\n",
    ")\n",
    "\n"
   ]
  }
 ],
 "metadata": {
  "kernelspec": {
   "display_name": "Python 3",
   "language": "python",
   "name": "python3"
  },
  "language_info": {
   "codemirror_mode": {
    "name": "ipython",
    "version": 3
   },
   "file_extension": ".py",
   "mimetype": "text/x-python",
   "name": "python",
   "nbconvert_exporter": "python",
   "pygments_lexer": "ipython3",
   "version": "3.9.19"
  }
 },
 "nbformat": 4,
 "nbformat_minor": 2
}

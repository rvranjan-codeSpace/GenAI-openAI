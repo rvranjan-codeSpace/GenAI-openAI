{
 "cells": [
  {
   "cell_type": "code",
   "execution_count": 2,
   "metadata": {},
   "outputs": [
    {
     "name": "stdout",
     "output_type": "stream",
     "text": [
      "<generator object f at 0x0000018272472740>\n",
      "1\n",
      "2\n",
      "3\n",
      "1\n"
     ]
    }
   ],
   "source": [
    "def f():\n",
    "    yield 1\n",
    "    yield 2\n",
    "    yield 3\n",
    "\n",
    "print(f())\n",
    "\n",
    "for x in f():\n",
    "    print(x)\n",
    "\n",
    "values = f()\n",
    "print(values.__next__())"
   ]
  },
  {
   "cell_type": "code",
   "execution_count": 5,
   "metadata": {},
   "outputs": [
    {
     "name": "stdout",
     "output_type": "stream",
     "text": [
      "1\n",
      "4\n",
      "9\n",
      "16\n",
      "25\n",
      "36\n",
      "49\n",
      "64\n",
      "81\n",
      "100\n"
     ]
    }
   ],
   "source": [
    "# print top 10 squares. usw yiled\n",
    "def top_ten_squared():\n",
    "     n=1\n",
    "     while(n <=10):\n",
    "          yield n*n\n",
    "          n+=1\n",
    "values = top_ten_squared()\n",
    "\n",
    "for i in values:\n",
    "     print(i)\n",
    "     \n"
   ]
  },
  {
   "cell_type": "markdown",
   "metadata": {},
   "source": [
    "    What Is Yield In Python? The Yield keyword in Python is similar to a return statement used for returning values or objects in Python. However, there is a slight difference. \n",
    "\n",
    "    The yield statement returns a generator object to the one who calls the function which contains yield, instead of simply returning a value.\n",
    "\n",
    "    what is generator function ?\n",
    "    A type of function that is memory efficient and can be used like an iterator object.\n",
    "    Genrator uses yield insted of return\n",
    "\n",
    "    A generator also gives an iterator with it."
   ]
  },
  {
   "cell_type": "code",
   "execution_count": 9,
   "metadata": {},
   "outputs": [
    {
     "name": "stdout",
     "output_type": "stream",
     "text": [
      "[0, 2, 4, 6]\n"
     ]
    }
   ],
   "source": [
    "G1 = [i for i in range(8) if i%2==0]\n",
    "print(G1)"
   ]
  }
 ],
 "metadata": {
  "kernelspec": {
   "display_name": "Python 3",
   "language": "python",
   "name": "python3"
  },
  "language_info": {
   "codemirror_mode": {
    "name": "ipython",
    "version": 3
   },
   "file_extension": ".py",
   "mimetype": "text/x-python",
   "name": "python",
   "nbconvert_exporter": "python",
   "pygments_lexer": "ipython3",
   "version": "3.9.19"
  }
 },
 "nbformat": 4,
 "nbformat_minor": 2
}

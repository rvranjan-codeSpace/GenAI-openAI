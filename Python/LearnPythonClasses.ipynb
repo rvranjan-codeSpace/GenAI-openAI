{
 "cells": [
  {
   "cell_type": "code",
   "execution_count": 14,
   "metadata": {},
   "outputs": [
    {
     "name": "stdout",
     "output_type": "stream",
     "text": [
      "1\n",
      "<class '__main__.Student'>\n",
      "This is a static Student with name\n",
      "rajan\n",
      "<bound method Student.getName of <class '__main__.Student'>>\n"
     ]
    }
   ],
   "source": [
    "class Student:\n",
    "    var ='class_variable_rajan' # This is class variable\n",
    "\n",
    "    def __init__(self, ins_a,ins_b): #dunder method __init__ jst like constructorok l\n",
    "        self.ins_a = ins_a\n",
    "        self.ins_b =ins_b\n",
    "\n",
    "    def get_a(self): # accessors\n",
    "        return self.ins_a\n",
    "\n",
    "    def set_a(self, a):# mutators\n",
    "        self.a = a\n",
    "\n",
    "    @classmethod  # class method decorator . cls is a class variable keyword\n",
    "    def getName(cls):\n",
    "        return cls.class_var\n",
    "\n",
    "    @staticmethod # static method decorator\n",
    "    def getstaticMethod():\n",
    "        return 'This is a static Student with name'\n",
    "\n",
    "\n",
    "\n",
    "s1 = Student(1,2)\n",
    "print(s1.ins_a)\n",
    "\n",
    "print(type(s1))\n",
    "\n",
    "print(Student.getstaticMethod())\n",
    "\n",
    "print(Student.getName())\n",
    "print(s1.getName)\n",
    "\n"
   ]
  }
 ],
 "metadata": {
  "kernelspec": {
   "display_name": "Python 3",
   "language": "python",
   "name": "python3"
  },
  "language_info": {
   "codemirror_mode": {
    "name": "ipython",
    "version": 3
   },
   "file_extension": ".py",
   "mimetype": "text/x-python",
   "name": "python",
   "nbconvert_exporter": "python",
   "pygments_lexer": "ipython3",
   "version": "3.9.19"
  }
 },
 "nbformat": 4,
 "nbformat_minor": 2
}

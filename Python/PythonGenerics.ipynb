{
 "cells": [
  {
   "cell_type": "code",
   "execution_count": 3,
   "metadata": {},
   "outputs": [
    {
     "name": "stdout",
     "output_type": "stream",
     "text": [
      "RAJAN\n",
      "RAJAN\n",
      "3\n"
     ]
    }
   ],
   "source": [
    "from copy import deepcopy\n",
    "from typing import Any, TypeVar\n",
    "\n",
    "# SImple utility method to return deepcopy\n",
    "def my_deepcopy(myvar:any)->any:\n",
    "    return deepcopy(myvar)\n",
    "\n",
    "print(my_deepcopy('Rajan').upper())\n",
    "\n",
    "T= TypeVar(\"T\")\n",
    "\n",
    "# SImple utility method to return deepcopy\n",
    "# This will always take T and return T meaning whatever type is the input so be the output\n",
    "def my_deepcopy_with_TypeVAR(myvar:T)->T:\n",
    "    return deepcopy(myvar)\n",
    "\n",
    "print(my_deepcopy('Rajan').upper())\n",
    "print(my_deepcopy(3))\n",
    "\n"
   ]
  },
  {
   "cell_type": "code",
   "execution_count": 11,
   "metadata": {},
   "outputs": [
    {
     "name": "stdout",
     "output_type": "stream",
     "text": [
      "harry\n",
      "miss defualty\n",
      "0\n"
     ]
    }
   ],
   "source": [
    "Tvalue = TypeVar(\"Tvalue\")\n",
    "\n",
    "def return_first_item(names:list[Tvalue], default:Tvalue)->Tvalue:\n",
    "    if len(names) == 0:\n",
    "        return default\n",
    "    else:\n",
    "        return names[0]\n",
    "\n",
    "first_name = return_first_item([\"harry\",\"sunitha\"],default=\"miss defaulty\")\n",
    "print(first_name)\n",
    "\n",
    "\n",
    "last_name = return_first_item([], default=\"miss defualty\")\n",
    "print(last_name)\n",
    "\n",
    "first_num = return_first_item([], default=0)\n",
    "print(first_num)"
   ]
  },
  {
   "cell_type": "code",
   "execution_count": 17,
   "metadata": {},
   "outputs": [
    {
     "name": "stdout",
     "output_type": "stream",
     "text": [
      "Roselin\n",
      "Roselin and the type is <class '__main__.Record'>\n",
      "Roselin and the type is <class '__main__.Record'>\n"
     ]
    }
   ],
   "source": [
    "from typing import Generic, TypeVar\n",
    "\n",
    "Tkey = TypeVar('Tkey')\n",
    "Tvalue = TypeVar('Tvalue')\n",
    "class Record(Generic[Tkey, Tvalue]):\n",
    "    name:str\n",
    "    key:Tkey\n",
    "    value:Tvalue\n",
    "\n",
    "    def __init__(self, key:Tkey, val:Tvalue) -> None:\n",
    "        super().__init__()\n",
    "        self.name = \"I Love Python\"\n",
    "        self.key = key\n",
    "        self.value = val\n",
    "\n",
    "r1 = Record(\"Roselin\",2)\n",
    "r2 = Record(\"Harry\",4)\n",
    "print(r1.key)\n",
    "\n",
    "print(f\"{r1.key} and the type is {type(r1)}\")\n",
    "\n",
    "print(f\"{r2.key} and the type is {type(r2)}\")\n",
    "    "
   ]
  }
 ],
 "metadata": {
  "kernelspec": {
   "display_name": "Python 3",
   "language": "python",
   "name": "python3"
  },
  "language_info": {
   "codemirror_mode": {
    "name": "ipython",
    "version": 3
   },
   "file_extension": ".py",
   "mimetype": "text/x-python",
   "name": "python",
   "nbconvert_exporter": "python",
   "pygments_lexer": "ipython3",
   "version": "3.9.19"
  }
 },
 "nbformat": 4,
 "nbformat_minor": 2
}

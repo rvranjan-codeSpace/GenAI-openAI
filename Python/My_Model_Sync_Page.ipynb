{
 "cells": [
  {
   "cell_type": "markdown",
   "metadata": {},
   "source": [
    "This is the ouput\n",
    "Now create SyncPage and Model classes\n",
    "SyncPage[Model](\n",
    "    data=[\n",
    "        Model(id='dall-e-3', created=1698785189, object='model', owned_by='system'),\n",
    "        Model(id='gpt-4-1106-preview', created=1698957206, object='model', owned_by='system')\n",
    "    ],\n",
    "    object='list'\n",
    ")"
   ]
  },
  {
   "cell_type": "code",
   "execution_count": 4,
   "metadata": {},
   "outputs": [
    {
     "name": "stdout",
     "output_type": "stream",
     "text": [
      "<__main__.SyncPage object at 0x000002497C57C910>\n"
     ]
    }
   ],
   "source": [
    "from typing import Generic, TypeVar\n",
    "\n",
    "class Model:\n",
    "    def __init__(self, id:str, created:int, object:str,owned_by:str) -> None:\n",
    "        self.id = id\n",
    "        self.created = created\n",
    "        self.object = object\n",
    "        self.owned_by = owned_by\n",
    "    def __repr__(self) -> str:\n",
    "        return (\"fModel(id='{self.id}', created={self.created}, \"\n",
    "                f\"object='{self.object}', owned_by='{self.owned_by}')\")\n",
    "\n",
    "T = TypeVar(\"T\")\n",
    "class SyncPage(Generic[T]):\n",
    "    def __init__(self,data:list[T], object:str='list') -> None:\n",
    "        self.data = data\n",
    "        self.object = object\n",
    "\n",
    "def __repr__(self):\n",
    "        return f\"SyncPage(data={self.data}, object='{self.object}')\"\n",
    "    \n",
    "model1 = Model(\"dall-e-3\",created=1698785189, object='model', owned_by='system')\n",
    "model2 = Model(\"dall-e-3\",created=1698785189, object='model', owned_by='system')\n",
    "\n",
    "sy = SyncPage(data= [model1,model2], object=list)\n",
    "print(sy)"
   ]
  }
 ],
 "metadata": {
  "kernelspec": {
   "display_name": "Python 3",
   "language": "python",
   "name": "python3"
  },
  "language_info": {
   "codemirror_mode": {
    "name": "ipython",
    "version": 3
   },
   "file_extension": ".py",
   "mimetype": "text/x-python",
   "name": "python",
   "nbconvert_exporter": "python",
   "pygments_lexer": "ipython3",
   "version": "3.9.19"
  }
 },
 "nbformat": 4,
 "nbformat_minor": 2
}

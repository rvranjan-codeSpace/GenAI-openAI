{
 "cells": [
  {
   "cell_type": "code",
   "execution_count": 1,
   "metadata": {},
   "outputs": [
    {
     "name": "stdout",
     "output_type": "stream",
     "text": [
      "['Maths', 'Science']\n",
      "a      Maths\n",
      "b    Science\n",
      "dtype: object\n",
      "         0\n",
      "0    Maths\n",
      "1  Science\n"
     ]
    }
   ],
   "source": [
    "import pandas as pd\n",
    "class Student:\n",
    "    def __init__(self, name, id):\n",
    "        self.name = name\n",
    "        self.id = id\n",
    "        self.courses = Courses()\n",
    "\n",
    "class Courses:\n",
    "    def __init__(self):\n",
    "        self.courses_list = ['Maths','Science']\n",
    "    \n",
    "    def list(self):\n",
    "        return self.courses_list\n",
    "\n",
    "\n",
    "student  = Student('harry',1)\n",
    "student_courses = student.courses.list()\n",
    "print(student_courses)\n",
    "\n",
    "course_Series = pd.Series(student.courses.list(), index = ['a','b'])\n",
    "print(course_Series)\n",
    "\n",
    "course_frame = pd.DataFrame(student.courses.list())\n",
    "print(f\"{ course_frame}\")\n",
    "\n"
   ]
  }
 ],
 "metadata": {
  "kernelspec": {
   "display_name": "Python 3",
   "language": "python",
   "name": "python3"
  },
  "language_info": {
   "codemirror_mode": {
    "name": "ipython",
    "version": 3
   },
   "file_extension": ".py",
   "mimetype": "text/x-python",
   "name": "python",
   "nbconvert_exporter": "python",
   "pygments_lexer": "ipython3",
   "version": "3.9.19"
  }
 },
 "nbformat": 4,
 "nbformat_minor": 2
}

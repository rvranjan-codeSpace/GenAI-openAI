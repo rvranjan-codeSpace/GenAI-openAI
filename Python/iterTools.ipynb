{
 "cells": [
  {
   "cell_type": "code",
   "execution_count": 3,
   "metadata": {},
   "outputs": [
    {
     "name": "stdout",
     "output_type": "stream",
     "text": [
      "4\n",
      "5\n",
      "6\n",
      "10\n",
      "12\n",
      "14\n",
      "16\n",
      "********\n",
      "10\n",
      "12\n",
      "14\n",
      "16\n"
     ]
    }
   ],
   "source": [
    "from itertools import count\n",
    "\n",
    "x = count(4)\n",
    "\n",
    "for i in x:\n",
    "    print(i)\n",
    "    if i== 6:\n",
    "        break\n",
    "\n",
    "y =count(start= 10, step =2)\n",
    "for i in y:\n",
    "    print(i)\n",
    "    if i == 16: \n",
    "        break\n",
    "\n",
    "print(\"********\")\n",
    "y =count(start= 10, step =2)\n",
    "for i in y:\n",
    "    print(i)\n",
    "    i = next(y)\n",
    "    print(i)\n",
    "    if i == 16: \n",
    "        break\n",
    "   "
   ]
  }
 ],
 "metadata": {
  "kernelspec": {
   "display_name": "Python 3",
   "language": "python",
   "name": "python3"
  },
  "language_info": {
   "codemirror_mode": {
    "name": "ipython",
    "version": 3
   },
   "file_extension": ".py",
   "mimetype": "text/x-python",
   "name": "python",
   "nbconvert_exporter": "python",
   "pygments_lexer": "ipython3",
   "version": "3.9.19"
  }
 },
 "nbformat": 4,
 "nbformat_minor": 2
}
